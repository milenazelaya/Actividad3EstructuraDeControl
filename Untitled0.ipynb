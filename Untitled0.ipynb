{
  "nbformat": 4,
  "nbformat_minor": 0,
  "metadata": {
    "colab": {
      "name": "Untitled0.ipynb",
      "provenance": [],
      "authorship_tag": "ABX9TyMyGAEopBtehaeg3gi0vDlO",
      "include_colab_link": true
    },
    "kernelspec": {
      "name": "python3",
      "display_name": "Python 3"
    },
    "language_info": {
      "name": "python"
    }
  },
  "cells": [
    {
      "cell_type": "markdown",
      "metadata": {
        "id": "view-in-github",
        "colab_type": "text"
      },
      "source": [
        "<a href=\"https://colab.research.google.com/github/milenazelaya/Actividad3EstructuraDeControl/blob/master/Untitled0.ipynb\" target=\"_parent\"><img src=\"https://colab.research.google.com/assets/colab-badge.svg\" alt=\"Open In Colab\"/></a>"
      ]
    },
    {
      "cell_type": "code",
      "execution_count": 1,
      "metadata": {
        "colab": {
          "base_uri": "https://localhost:8080/"
        },
        "id": "z0RLA8lJizWj",
        "outputId": "8867a491-a189-48d1-9322-a933175d0ba0"
      },
      "outputs": [
        {
          "output_type": "stream",
          "name": "stdout",
          "text": [
            "la suma de num1:  5 + num2:  4.6 es igual a:  9.6\n"
          ]
        }
      ],
      "source": [
        "num1 = 5\n",
        "num2 = 4.6\n",
        "resp= num1 + num2\n",
        "print (\"la suma de num1: \", num1, \"+ num2: \", num2, \"es igual a: \", resp)"
      ]
    },
    {
      "cell_type": "code",
      "source": [
        "numm= 10\n",
        "noom= 5\n",
        "resp= numm - noom\n",
        "print (\"la resta de numm\", numm,\"- noom: \", noom, \"es igual a: \", resp )"
      ],
      "metadata": {
        "colab": {
          "base_uri": "https://localhost:8080/"
        },
        "id": "bEpF2FpYkoSo",
        "outputId": "523673bf-f30c-46e4-8bba-e251b3040ea0"
      },
      "execution_count": 2,
      "outputs": [
        {
          "output_type": "stream",
          "name": "stdout",
          "text": [
            "la resta de numm 10 - noom:  5 es igual a:  5\n"
          ]
        }
      ]
    },
    {
      "cell_type": "code",
      "source": [
        "num1 = float (input (\"ingrese un numero: \"))\n",
        "num2 = float (input(\"ingrese otro numero \"))\n",
        "resp = num1 + num2 \n",
        "print (\"suma\", resp)\n"
      ],
      "metadata": {
        "colab": {
          "base_uri": "https://localhost:8080/"
        },
        "id": "Bhb1fii0koQ-",
        "outputId": "0d43e936-9ad0-41c8-f488-84374ac30b38"
      },
      "execution_count": 4,
      "outputs": [
        {
          "output_type": "stream",
          "name": "stdout",
          "text": [
            "ingrese un numero: 5\n",
            "ingrese otro numero 4.5\n",
            "suma 9.5\n"
          ]
        }
      ]
    },
    {
      "cell_type": "code",
      "source": [
        "num1 = int (input(\"ingrese un numero \"))\n",
        "num2 = int (input(\"ingrese el segundo numero\"))\n",
        "resp = num1 * num2\n",
        "print (\"multiplicacion\", resp)"
      ],
      "metadata": {
        "colab": {
          "base_uri": "https://localhost:8080/"
        },
        "id": "VnaMxcNHn_qs",
        "outputId": "76fd035c-c665-4645-f5de-be9a342b462d"
      },
      "execution_count": 7,
      "outputs": [
        {
          "output_type": "stream",
          "name": "stdout",
          "text": [
            "ingrese un numero 5\n",
            "ingrese el segundo numero2\n",
            "multiplicacion 10\n"
          ]
        }
      ]
    },
    {
      "cell_type": "code",
      "source": [
        "nombre = input (\"dime tu nombre uwu \")\n",
        "print (nombre, type(nombre), len (nombre))\n",
        "print (nombre[0], nombre [1], nombre [2], nombre [3]),"
      ],
      "metadata": {
        "id": "x4VQKi0Lo_5o"
      },
      "execution_count": null,
      "outputs": []
    },
    {
      "cell_type": "code",
      "source": [
        "resp = 4-4*6/2+1\n",
        "print(resp)"
      ],
      "metadata": {
        "colab": {
          "base_uri": "https://localhost:8080/"
        },
        "id": "KicsmMcWsrrv",
        "outputId": "c68bfff5-5ee2-4783-a115-0280e451eec1"
      },
      "execution_count": 17,
      "outputs": [
        {
          "output_type": "stream",
          "name": "stdout",
          "text": [
            "-7.0\n"
          ]
        }
      ]
    },
    {
      "cell_type": "code",
      "source": [
        "tegustaprogramacion = True #false\n",
        "print (\"Te gusta programar\", tegustaprogramacion)\n"
      ],
      "metadata": {
        "colab": {
          "base_uri": "https://localhost:8080/"
        },
        "id": "7Kn_91NhuEt8",
        "outputId": "2cba47e1-c8e0-4115-c74a-70cf6194b049"
      },
      "execution_count": 18,
      "outputs": [
        {
          "output_type": "stream",
          "name": "stdout",
          "text": [
            "Te gusta programar True\n"
          ]
        }
      ]
    },
    {
      "cell_type": "code",
      "source": [
        "def suma(num1, num2):\n",
        "  return num1 + num2\n",
        "  print (\"la suma de 5 + 7 =\", suma(5,7))"
      ],
      "metadata": {
        "id": "TvJ-ESKawHs9"
      },
      "execution_count": 1,
      "outputs": []
    },
    {
      "cell_type": "code",
      "source": [
        "num1 = int (input(\"ingrese un numero\"))\n",
        "num2 = int (input(\"ingrese otro numero\"))\n",
        "resp = num1 + num2\n",
        "print (Sume )\n",
        "def suma (num1, num2):\n",
        " return num1 + num2\n"
      ],
      "metadata": {
        "id": "rJQYhVQQxTmY"
      },
      "execution_count": null,
      "outputs": []
    }
  ]
}